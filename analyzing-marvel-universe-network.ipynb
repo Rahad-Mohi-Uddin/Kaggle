{
 "cells": [
  {
   "cell_type": "code",
   "execution_count": 1,
   "id": "1cb6f8bf",
   "metadata": {
    "_cell_guid": "b1076dfc-b9ad-4769-8c92-a6c4dae69d19",
    "_uuid": "8f2839f25d086af736a60e9eeb907d3b93b6e0e5",
    "execution": {
     "iopub.execute_input": "2023-08-10T20:33:54.870261Z",
     "iopub.status.busy": "2023-08-10T20:33:54.869756Z",
     "iopub.status.idle": "2023-08-10T20:33:54.891724Z",
     "shell.execute_reply": "2023-08-10T20:33:54.890669Z"
    },
    "papermill": {
     "duration": 0.032466,
     "end_time": "2023-08-10T20:33:54.894462",
     "exception": false,
     "start_time": "2023-08-10T20:33:54.861996",
     "status": "completed"
    },
    "tags": []
   },
   "outputs": [
    {
     "name": "stdout",
     "output_type": "stream",
     "text": [
      "/kaggle/input/the-marvel-universe-social-network/nodes.csv\n",
      "/kaggle/input/the-marvel-universe-social-network/edges.csv\n",
      "/kaggle/input/the-marvel-universe-social-network/hero-network.csv\n"
     ]
    }
   ],
   "source": [
    "# This Python 3 environment comes with many helpful analytics libraries installed\n",
    "# It is defined by the kaggle/python Docker image: https://github.com/kaggle/docker-python\n",
    "# For example, here's several helpful packages to load\n",
    "\n",
    "import numpy as np # linear algebra\n",
    "import pandas as pd # data processing, CSV file I/O (e.g. pd.read_csv)\n",
    "\n",
    "# Input data files are available in the read-only \"../input/\" directory\n",
    "# For example, running this (by clicking run or pressing Shift+Enter) will list all files under the input directory\n",
    "\n",
    "import os\n",
    "for dirname, _, filenames in os.walk('/kaggle/input'):\n",
    "    for filename in filenames:\n",
    "        print(os.path.join(dirname, filename))\n",
    "\n",
    "# You can write up to 20GB to the current directory (/kaggle/working/) that gets preserved as output when you create a version using \"Save & Run All\" \n",
    "# You can also write temporary files to /kaggle/temp/, but they won't be saved outside of the current session"
   ]
  },
  {
   "cell_type": "code",
   "execution_count": 2,
   "id": "22396cac",
   "metadata": {
    "execution": {
     "iopub.execute_input": "2023-08-10T20:33:54.906728Z",
     "iopub.status.busy": "2023-08-10T20:33:54.906329Z",
     "iopub.status.idle": "2023-08-10T20:33:55.641537Z",
     "shell.execute_reply": "2023-08-10T20:33:55.640547Z"
    },
    "papermill": {
     "duration": 0.744201,
     "end_time": "2023-08-10T20:33:55.644020",
     "exception": false,
     "start_time": "2023-08-10T20:33:54.899819",
     "status": "completed"
    },
    "tags": []
   },
   "outputs": [],
   "source": [
    "import pandas as pd \n",
    "import networkx as nx\n",
    "\n",
    "from itertools import combinations"
   ]
  },
  {
   "cell_type": "code",
   "execution_count": 3,
   "id": "02bf1df4",
   "metadata": {
    "execution": {
     "iopub.execute_input": "2023-08-10T20:33:55.656921Z",
     "iopub.status.busy": "2023-08-10T20:33:55.655778Z",
     "iopub.status.idle": "2023-08-10T20:33:56.270372Z",
     "shell.execute_reply": "2023-08-10T20:33:56.269149Z"
    },
    "papermill": {
     "duration": 0.623717,
     "end_time": "2023-08-10T20:33:56.273157",
     "exception": false,
     "start_time": "2023-08-10T20:33:55.649440",
     "status": "completed"
    },
    "tags": []
   },
   "outputs": [],
   "source": [
    "node_df= pd.read_csv(\"/kaggle/input/the-marvel-universe-social-network/nodes.csv\")\n",
    "edge_df= pd.read_csv(\"/kaggle/input/the-marvel-universe-social-network/edges.csv\")\n",
    "hero_net_df= pd.read_csv(\"/kaggle/input/the-marvel-universe-social-network/hero-network.csv\")"
   ]
  },
  {
   "cell_type": "markdown",
   "id": "ee315efe",
   "metadata": {
    "papermill": {
     "duration": 0.004803,
     "end_time": "2023-08-10T20:33:56.283223",
     "exception": false,
     "start_time": "2023-08-10T20:33:56.278420",
     "status": "completed"
    },
    "tags": []
   },
   "source": [
    "# 1. Dataset Exploration & Preprocessing\n",
    "Before further analysis let's explore and let's do some required processing"
   ]
  },
  {
   "cell_type": "code",
   "execution_count": 4,
   "id": "3831ca82",
   "metadata": {
    "execution": {
     "iopub.execute_input": "2023-08-10T20:33:56.295304Z",
     "iopub.status.busy": "2023-08-10T20:33:56.294907Z",
     "iopub.status.idle": "2023-08-10T20:33:56.315577Z",
     "shell.execute_reply": "2023-08-10T20:33:56.314426Z"
    },
    "papermill": {
     "duration": 0.029736,
     "end_time": "2023-08-10T20:33:56.318167",
     "exception": false,
     "start_time": "2023-08-10T20:33:56.288431",
     "status": "completed"
    },
    "tags": []
   },
   "outputs": [
    {
     "data": {
      "text/html": [
       "<div>\n",
       "<style scoped>\n",
       "    .dataframe tbody tr th:only-of-type {\n",
       "        vertical-align: middle;\n",
       "    }\n",
       "\n",
       "    .dataframe tbody tr th {\n",
       "        vertical-align: top;\n",
       "    }\n",
       "\n",
       "    .dataframe thead th {\n",
       "        text-align: right;\n",
       "    }\n",
       "</style>\n",
       "<table border=\"1\" class=\"dataframe\">\n",
       "  <thead>\n",
       "    <tr style=\"text-align: right;\">\n",
       "      <th></th>\n",
       "      <th>node</th>\n",
       "      <th>type</th>\n",
       "    </tr>\n",
       "  </thead>\n",
       "  <tbody>\n",
       "    <tr>\n",
       "      <th>0</th>\n",
       "      <td>2001 10</td>\n",
       "      <td>comic</td>\n",
       "    </tr>\n",
       "    <tr>\n",
       "      <th>1</th>\n",
       "      <td>2001 8</td>\n",
       "      <td>comic</td>\n",
       "    </tr>\n",
       "    <tr>\n",
       "      <th>2</th>\n",
       "      <td>2001 9</td>\n",
       "      <td>comic</td>\n",
       "    </tr>\n",
       "    <tr>\n",
       "      <th>3</th>\n",
       "      <td>24-HOUR MAN/EMMANUEL</td>\n",
       "      <td>hero</td>\n",
       "    </tr>\n",
       "    <tr>\n",
       "      <th>4</th>\n",
       "      <td>3-D MAN/CHARLES CHAN</td>\n",
       "      <td>hero</td>\n",
       "    </tr>\n",
       "  </tbody>\n",
       "</table>\n",
       "</div>"
      ],
      "text/plain": [
       "                   node   type\n",
       "0               2001 10  comic\n",
       "1                2001 8  comic\n",
       "2                2001 9  comic\n",
       "3  24-HOUR MAN/EMMANUEL   hero\n",
       "4  3-D MAN/CHARLES CHAN   hero"
      ]
     },
     "execution_count": 4,
     "metadata": {},
     "output_type": "execute_result"
    }
   ],
   "source": [
    "node_df.head()"
   ]
  },
  {
   "cell_type": "code",
   "execution_count": 5,
   "id": "706f9e08",
   "metadata": {
    "execution": {
     "iopub.execute_input": "2023-08-10T20:33:56.331166Z",
     "iopub.status.busy": "2023-08-10T20:33:56.330252Z",
     "iopub.status.idle": "2023-08-10T20:33:56.340266Z",
     "shell.execute_reply": "2023-08-10T20:33:56.339438Z"
    },
    "papermill": {
     "duration": 0.018747,
     "end_time": "2023-08-10T20:33:56.342377",
     "exception": false,
     "start_time": "2023-08-10T20:33:56.323630",
     "status": "completed"
    },
    "tags": []
   },
   "outputs": [
    {
     "data": {
      "text/html": [
       "<div>\n",
       "<style scoped>\n",
       "    .dataframe tbody tr th:only-of-type {\n",
       "        vertical-align: middle;\n",
       "    }\n",
       "\n",
       "    .dataframe tbody tr th {\n",
       "        vertical-align: top;\n",
       "    }\n",
       "\n",
       "    .dataframe thead th {\n",
       "        text-align: right;\n",
       "    }\n",
       "</style>\n",
       "<table border=\"1\" class=\"dataframe\">\n",
       "  <thead>\n",
       "    <tr style=\"text-align: right;\">\n",
       "      <th></th>\n",
       "      <th>hero</th>\n",
       "      <th>comic</th>\n",
       "    </tr>\n",
       "  </thead>\n",
       "  <tbody>\n",
       "    <tr>\n",
       "      <th>0</th>\n",
       "      <td>24-HOUR MAN/EMMANUEL</td>\n",
       "      <td>AA2 35</td>\n",
       "    </tr>\n",
       "    <tr>\n",
       "      <th>1</th>\n",
       "      <td>3-D MAN/CHARLES CHAN</td>\n",
       "      <td>AVF 4</td>\n",
       "    </tr>\n",
       "    <tr>\n",
       "      <th>2</th>\n",
       "      <td>3-D MAN/CHARLES CHAN</td>\n",
       "      <td>AVF 5</td>\n",
       "    </tr>\n",
       "    <tr>\n",
       "      <th>3</th>\n",
       "      <td>3-D MAN/CHARLES CHAN</td>\n",
       "      <td>COC 1</td>\n",
       "    </tr>\n",
       "    <tr>\n",
       "      <th>4</th>\n",
       "      <td>3-D MAN/CHARLES CHAN</td>\n",
       "      <td>H2 251</td>\n",
       "    </tr>\n",
       "  </tbody>\n",
       "</table>\n",
       "</div>"
      ],
      "text/plain": [
       "                   hero   comic\n",
       "0  24-HOUR MAN/EMMANUEL  AA2 35\n",
       "1  3-D MAN/CHARLES CHAN   AVF 4\n",
       "2  3-D MAN/CHARLES CHAN   AVF 5\n",
       "3  3-D MAN/CHARLES CHAN   COC 1\n",
       "4  3-D MAN/CHARLES CHAN  H2 251"
      ]
     },
     "execution_count": 5,
     "metadata": {},
     "output_type": "execute_result"
    }
   ],
   "source": [
    "edge_df.head()"
   ]
  },
  {
   "cell_type": "code",
   "execution_count": 6,
   "id": "3a140239",
   "metadata": {
    "execution": {
     "iopub.execute_input": "2023-08-10T20:33:56.355512Z",
     "iopub.status.busy": "2023-08-10T20:33:56.354566Z",
     "iopub.status.idle": "2023-08-10T20:33:56.364362Z",
     "shell.execute_reply": "2023-08-10T20:33:56.363314Z"
    },
    "papermill": {
     "duration": 0.018729,
     "end_time": "2023-08-10T20:33:56.366640",
     "exception": false,
     "start_time": "2023-08-10T20:33:56.347911",
     "status": "completed"
    },
    "tags": []
   },
   "outputs": [
    {
     "data": {
      "text/html": [
       "<div>\n",
       "<style scoped>\n",
       "    .dataframe tbody tr th:only-of-type {\n",
       "        vertical-align: middle;\n",
       "    }\n",
       "\n",
       "    .dataframe tbody tr th {\n",
       "        vertical-align: top;\n",
       "    }\n",
       "\n",
       "    .dataframe thead th {\n",
       "        text-align: right;\n",
       "    }\n",
       "</style>\n",
       "<table border=\"1\" class=\"dataframe\">\n",
       "  <thead>\n",
       "    <tr style=\"text-align: right;\">\n",
       "      <th></th>\n",
       "      <th>hero1</th>\n",
       "      <th>hero2</th>\n",
       "    </tr>\n",
       "  </thead>\n",
       "  <tbody>\n",
       "    <tr>\n",
       "      <th>0</th>\n",
       "      <td>LITTLE, ABNER</td>\n",
       "      <td>PRINCESS ZANDA</td>\n",
       "    </tr>\n",
       "    <tr>\n",
       "      <th>1</th>\n",
       "      <td>LITTLE, ABNER</td>\n",
       "      <td>BLACK PANTHER/T'CHAL</td>\n",
       "    </tr>\n",
       "    <tr>\n",
       "      <th>2</th>\n",
       "      <td>BLACK PANTHER/T'CHAL</td>\n",
       "      <td>PRINCESS ZANDA</td>\n",
       "    </tr>\n",
       "    <tr>\n",
       "      <th>3</th>\n",
       "      <td>LITTLE, ABNER</td>\n",
       "      <td>PRINCESS ZANDA</td>\n",
       "    </tr>\n",
       "    <tr>\n",
       "      <th>4</th>\n",
       "      <td>LITTLE, ABNER</td>\n",
       "      <td>BLACK PANTHER/T'CHAL</td>\n",
       "    </tr>\n",
       "  </tbody>\n",
       "</table>\n",
       "</div>"
      ],
      "text/plain": [
       "                  hero1                 hero2\n",
       "0         LITTLE, ABNER        PRINCESS ZANDA\n",
       "1         LITTLE, ABNER  BLACK PANTHER/T'CHAL\n",
       "2  BLACK PANTHER/T'CHAL        PRINCESS ZANDA\n",
       "3         LITTLE, ABNER        PRINCESS ZANDA\n",
       "4         LITTLE, ABNER  BLACK PANTHER/T'CHAL"
      ]
     },
     "execution_count": 6,
     "metadata": {},
     "output_type": "execute_result"
    }
   ],
   "source": [
    "hero_net_df.head()"
   ]
  },
  {
   "cell_type": "markdown",
   "id": "8170964d",
   "metadata": {
    "papermill": {
     "duration": 0.005537,
     "end_time": "2023-08-10T20:33:56.378250",
     "exception": false,
     "start_time": "2023-08-10T20:33:56.372713",
     "status": "completed"
    },
    "tags": []
   },
   "source": [
    "## 1.1 Extraction of Hero Name\n",
    "based on \"/\", it looks like the name of the hero on the left and the name of the person on the right is not the hero. We need to split the column. But at first we need to check what is length of hero name. So Let's split accordingly"
   ]
  },
  {
   "cell_type": "code",
   "execution_count": 7,
   "id": "1e27cae5",
   "metadata": {
    "execution": {
     "iopub.execute_input": "2023-08-10T20:33:56.392018Z",
     "iopub.status.busy": "2023-08-10T20:33:56.391282Z",
     "iopub.status.idle": "2023-08-10T20:33:57.414548Z",
     "shell.execute_reply": "2023-08-10T20:33:57.413333Z"
    },
    "papermill": {
     "duration": 1.032891,
     "end_time": "2023-08-10T20:33:57.416912",
     "exception": false,
     "start_time": "2023-08-10T20:33:56.384021",
     "status": "completed"
    },
    "tags": []
   },
   "outputs": [
    {
     "name": "stdout",
     "output_type": "stream",
     "text": [
      "Maximum length of hero1 column in hero_net_df.csv:20\n",
      "Maximum length of hero2 column in hero_net_df.csv:20\n"
     ]
    }
   ],
   "source": [
    "for c in ['hero1','hero2']:\n",
    "    print(f\"Maximum length of {c} column in hero_net_df.csv:{max(hero_net_df[c].apply(lambda x: len(x)))}\")"
   ]
  },
  {
   "cell_type": "code",
   "execution_count": 8,
   "id": "29683414",
   "metadata": {
    "execution": {
     "iopub.execute_input": "2023-08-10T20:33:57.431482Z",
     "iopub.status.busy": "2023-08-10T20:33:57.431061Z",
     "iopub.status.idle": "2023-08-10T20:33:58.306497Z",
     "shell.execute_reply": "2023-08-10T20:33:58.305318Z"
    },
    "papermill": {
     "duration": 0.88634,
     "end_time": "2023-08-10T20:33:58.309310",
     "exception": false,
     "start_time": "2023-08-10T20:33:57.422970",
     "status": "completed"
    },
    "tags": []
   },
   "outputs": [],
   "source": [
    "for c in ['hero1','hero2']:\n",
    "    hero_net_df[c]= hero_net_df[c].apply(lambda x: x[:20].split(\"/\")[0])\n",
    "\n",
    "edge_df['hero']= edge_df['hero'].apply(lambda x:x[:20].split(\"/\")[0])"
   ]
  },
  {
   "cell_type": "markdown",
   "id": "5bbc17ec",
   "metadata": {
    "papermill": {
     "duration": 0.006058,
     "end_time": "2023-08-10T20:33:58.321512",
     "exception": false,
     "start_time": "2023-08-10T20:33:58.315454",
     "status": "completed"
    },
    "tags": []
   },
   "source": [
    "## 1.2 Dataset Reconstruction"
   ]
  },
  {
   "cell_type": "code",
   "execution_count": 9,
   "id": "02cf7fa3",
   "metadata": {
    "execution": {
     "iopub.execute_input": "2023-08-10T20:33:58.335641Z",
     "iopub.status.busy": "2023-08-10T20:33:58.335205Z",
     "iopub.status.idle": "2023-08-10T20:33:58.411617Z",
     "shell.execute_reply": "2023-08-10T20:33:58.410422Z"
    },
    "papermill": {
     "duration": 0.086658,
     "end_time": "2023-08-10T20:33:58.414342",
     "exception": false,
     "start_time": "2023-08-10T20:33:58.327684",
     "status": "completed"
    },
    "tags": []
   },
   "outputs": [
    {
     "data": {
      "text/plain": [
       "Index(['SPIDER-MAN', 'CAPTAIN AMERICA', 'IRON MAN', 'THING', 'THOR',\n",
       "       'HUMAN TORCH', 'MR. FANTASTIC', 'HULK', 'WOLVERINE', 'INVISIBLE WOMAN',\n",
       "       'SCARLET WITCH', 'BEAST', 'DR. STRANGE', 'WATSON-PARKER, MARY',\n",
       "       'DAREDEVIL', 'HAWK', 'VISION', 'CYCLOPS', 'WASP', 'JAMESON, J. JONAH',\n",
       "       'ANT-MAN', 'SUB-MARINER', 'STORM', 'PROFESSOR X', 'FURY, COL. NICHOLAS',\n",
       "       'MARVEL GIRL', 'COLOSSUS II', 'ANGEL', 'NIGHTCRAWLER', 'ICEMAN'],\n",
       "      dtype='object', name='hero')"
      ]
     },
     "execution_count": 9,
     "metadata": {},
     "output_type": "execute_result"
    }
   ],
   "source": [
    "top30_hero= edge_df.groupby(['hero'])[['comic']].count().sort_values(by=['comic'], ascending=False).head(30).index\n",
    "top30_hero"
   ]
  },
  {
   "cell_type": "code",
   "execution_count": 10,
   "id": "0f657d05",
   "metadata": {
    "execution": {
     "iopub.execute_input": "2023-08-10T20:33:58.429750Z",
     "iopub.status.busy": "2023-08-10T20:33:58.429319Z",
     "iopub.status.idle": "2023-08-10T20:34:12.701510Z",
     "shell.execute_reply": "2023-08-10T20:34:12.700381Z"
    },
    "papermill": {
     "duration": 14.282805,
     "end_time": "2023-08-10T20:34:12.704635",
     "exception": false,
     "start_time": "2023-08-10T20:33:58.421830",
     "status": "completed"
    },
    "tags": []
   },
   "outputs": [
    {
     "data": {
      "text/html": [
       "<div>\n",
       "<style scoped>\n",
       "    .dataframe tbody tr th:only-of-type {\n",
       "        vertical-align: middle;\n",
       "    }\n",
       "\n",
       "    .dataframe tbody tr th {\n",
       "        vertical-align: top;\n",
       "    }\n",
       "\n",
       "    .dataframe thead th {\n",
       "        text-align: right;\n",
       "    }\n",
       "</style>\n",
       "<table border=\"1\" class=\"dataframe\">\n",
       "  <thead>\n",
       "    <tr style=\"text-align: right;\">\n",
       "      <th></th>\n",
       "      <th>Hero_1</th>\n",
       "      <th>Hero_2</th>\n",
       "      <th>Count</th>\n",
       "    </tr>\n",
       "  </thead>\n",
       "  <tbody>\n",
       "    <tr>\n",
       "      <th>0</th>\n",
       "      <td>SPIDER-MAN</td>\n",
       "      <td>CAPTAIN AMERICA</td>\n",
       "      <td>145</td>\n",
       "    </tr>\n",
       "    <tr>\n",
       "      <th>1</th>\n",
       "      <td>SPIDER-MAN</td>\n",
       "      <td>IRON MAN</td>\n",
       "      <td>95</td>\n",
       "    </tr>\n",
       "    <tr>\n",
       "      <th>2</th>\n",
       "      <td>SPIDER-MAN</td>\n",
       "      <td>THING</td>\n",
       "      <td>125</td>\n",
       "    </tr>\n",
       "    <tr>\n",
       "      <th>3</th>\n",
       "      <td>SPIDER-MAN</td>\n",
       "      <td>THOR</td>\n",
       "      <td>96</td>\n",
       "    </tr>\n",
       "    <tr>\n",
       "      <th>4</th>\n",
       "      <td>SPIDER-MAN</td>\n",
       "      <td>HUMAN TORCH</td>\n",
       "      <td>147</td>\n",
       "    </tr>\n",
       "  </tbody>\n",
       "</table>\n",
       "</div>"
      ],
      "text/plain": [
       "       Hero_1           Hero_2  Count\n",
       "0  SPIDER-MAN  CAPTAIN AMERICA    145\n",
       "1  SPIDER-MAN         IRON MAN     95\n",
       "2  SPIDER-MAN            THING    125\n",
       "3  SPIDER-MAN             THOR     96\n",
       "4  SPIDER-MAN      HUMAN TORCH    147"
      ]
     },
     "metadata": {},
     "output_type": "display_data"
    }
   ],
   "source": [
    "temp1 = set(edge_df[edge_df['hero']=='SPIDER-MAN']['comic'])\n",
    "temp2 = set(edge_df[edge_df['hero']=='HULK']['comic'])\n",
    "hero_1 = []; hero_2 = []; count = [];\n",
    "for comb in list(combinations(top30_hero, 2)):    \n",
    "    temp1 = set(edge_df[edge_df['hero']==comb[0]]['comic'])\n",
    "    temp2 = set(edge_df[edge_df['hero']==comb[1]]['comic'])\n",
    "    cnt = len(temp1.intersection(temp2)) # Appear Together    \n",
    "    hero_1.append(comb[0]); hero_2.append(comb[1]); count.append(cnt);\n",
    "df = pd.DataFrame({'Hero_1':hero_1, 'Hero_2':hero_2, 'Count':count})\n",
    "display(df.head())"
   ]
  },
  {
   "cell_type": "code",
   "execution_count": null,
   "id": "b54beaf4",
   "metadata": {
    "papermill": {
     "duration": 0.006895,
     "end_time": "2023-08-10T20:34:12.721782",
     "exception": false,
     "start_time": "2023-08-10T20:34:12.714887",
     "status": "completed"
    },
    "tags": []
   },
   "outputs": [],
   "source": []
  }
 ],
 "metadata": {
  "kernelspec": {
   "display_name": "Python 3",
   "language": "python",
   "name": "python3"
  },
  "language_info": {
   "codemirror_mode": {
    "name": "ipython",
    "version": 3
   },
   "file_extension": ".py",
   "mimetype": "text/x-python",
   "name": "python",
   "nbconvert_exporter": "python",
   "pygments_lexer": "ipython3",
   "version": "3.10.12"
  },
  "papermill": {
   "default_parameters": {},
   "duration": 29.878815,
   "end_time": "2023-08-10T20:34:13.651310",
   "environment_variables": {},
   "exception": null,
   "input_path": "__notebook__.ipynb",
   "output_path": "__notebook__.ipynb",
   "parameters": {},
   "start_time": "2023-08-10T20:33:43.772495",
   "version": "2.4.0"
  }
 },
 "nbformat": 4,
 "nbformat_minor": 5
}
