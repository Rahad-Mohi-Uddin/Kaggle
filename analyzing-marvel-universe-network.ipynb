{
 "cells": [
  {
   "cell_type": "code",
   "execution_count": 1,
   "id": "c584e373",
   "metadata": {
    "_cell_guid": "b1076dfc-b9ad-4769-8c92-a6c4dae69d19",
    "_uuid": "8f2839f25d086af736a60e9eeb907d3b93b6e0e5",
    "execution": {
     "iopub.execute_input": "2023-08-10T18:53:47.207451Z",
     "iopub.status.busy": "2023-08-10T18:53:47.207025Z",
     "iopub.status.idle": "2023-08-10T18:53:47.224872Z",
     "shell.execute_reply": "2023-08-10T18:53:47.223767Z"
    },
    "papermill": {
     "duration": 0.024731,
     "end_time": "2023-08-10T18:53:47.227223",
     "exception": false,
     "start_time": "2023-08-10T18:53:47.202492",
     "status": "completed"
    },
    "tags": []
   },
   "outputs": [
    {
     "name": "stdout",
     "output_type": "stream",
     "text": [
      "/kaggle/input/the-marvel-universe-social-network/nodes.csv\n",
      "/kaggle/input/the-marvel-universe-social-network/edges.csv\n",
      "/kaggle/input/the-marvel-universe-social-network/hero-network.csv\n"
     ]
    }
   ],
   "source": [
    "# This Python 3 environment comes with many helpful analytics libraries installed\n",
    "# It is defined by the kaggle/python Docker image: https://github.com/kaggle/docker-python\n",
    "# For example, here's several helpful packages to load\n",
    "\n",
    "import numpy as np # linear algebra\n",
    "import pandas as pd # data processing, CSV file I/O (e.g. pd.read_csv)\n",
    "\n",
    "# Input data files are available in the read-only \"../input/\" directory\n",
    "# For example, running this (by clicking run or pressing Shift+Enter) will list all files under the input directory\n",
    "\n",
    "import os\n",
    "for dirname, _, filenames in os.walk('/kaggle/input'):\n",
    "    for filename in filenames:\n",
    "        print(os.path.join(dirname, filename))\n",
    "\n",
    "# You can write up to 20GB to the current directory (/kaggle/working/) that gets preserved as output when you create a version using \"Save & Run All\" \n",
    "# You can also write temporary files to /kaggle/temp/, but they won't be saved outside of the current session"
   ]
  },
  {
   "cell_type": "code",
   "execution_count": 2,
   "id": "31a45fd1",
   "metadata": {
    "execution": {
     "iopub.execute_input": "2023-08-10T18:53:47.234053Z",
     "iopub.status.busy": "2023-08-10T18:53:47.233446Z",
     "iopub.status.idle": "2023-08-10T18:53:47.996019Z",
     "shell.execute_reply": "2023-08-10T18:53:47.995169Z"
    },
    "papermill": {
     "duration": 0.768609,
     "end_time": "2023-08-10T18:53:47.998543",
     "exception": false,
     "start_time": "2023-08-10T18:53:47.229934",
     "status": "completed"
    },
    "tags": []
   },
   "outputs": [],
   "source": [
    "import pandas as pd \n",
    "import networkx as nx"
   ]
  },
  {
   "cell_type": "code",
   "execution_count": 3,
   "id": "dae09bce",
   "metadata": {
    "execution": {
     "iopub.execute_input": "2023-08-10T18:53:48.005406Z",
     "iopub.status.busy": "2023-08-10T18:53:48.004414Z",
     "iopub.status.idle": "2023-08-10T18:53:48.570583Z",
     "shell.execute_reply": "2023-08-10T18:53:48.569680Z"
    },
    "papermill": {
     "duration": 0.571866,
     "end_time": "2023-08-10T18:53:48.572881",
     "exception": false,
     "start_time": "2023-08-10T18:53:48.001015",
     "status": "completed"
    },
    "tags": []
   },
   "outputs": [],
   "source": [
    "node_df= pd.read_csv(\"/kaggle/input/the-marvel-universe-social-network/nodes.csv\")\n",
    "edge_df= pd.read_csv(\"/kaggle/input/the-marvel-universe-social-network/edges.csv\")\n",
    "hero_net_df= pd.read_csv(\"/kaggle/input/the-marvel-universe-social-network/hero-network.csv\")"
   ]
  },
  {
   "cell_type": "markdown",
   "id": "1c6d41cb",
   "metadata": {
    "papermill": {
     "duration": 0.002,
     "end_time": "2023-08-10T18:53:48.577384",
     "exception": false,
     "start_time": "2023-08-10T18:53:48.575384",
     "status": "completed"
    },
    "tags": []
   },
   "source": [
    "# 1. Dataset Exploration & Preprocessing"
   ]
  },
  {
   "cell_type": "code",
   "execution_count": 4,
   "id": "56a68bc3",
   "metadata": {
    "execution": {
     "iopub.execute_input": "2023-08-10T18:53:48.583624Z",
     "iopub.status.busy": "2023-08-10T18:53:48.583054Z",
     "iopub.status.idle": "2023-08-10T18:53:48.603129Z",
     "shell.execute_reply": "2023-08-10T18:53:48.602068Z"
    },
    "papermill": {
     "duration": 0.026075,
     "end_time": "2023-08-10T18:53:48.605608",
     "exception": false,
     "start_time": "2023-08-10T18:53:48.579533",
     "status": "completed"
    },
    "tags": []
   },
   "outputs": [
    {
     "data": {
      "text/html": [
       "<div>\n",
       "<style scoped>\n",
       "    .dataframe tbody tr th:only-of-type {\n",
       "        vertical-align: middle;\n",
       "    }\n",
       "\n",
       "    .dataframe tbody tr th {\n",
       "        vertical-align: top;\n",
       "    }\n",
       "\n",
       "    .dataframe thead th {\n",
       "        text-align: right;\n",
       "    }\n",
       "</style>\n",
       "<table border=\"1\" class=\"dataframe\">\n",
       "  <thead>\n",
       "    <tr style=\"text-align: right;\">\n",
       "      <th></th>\n",
       "      <th>hero1</th>\n",
       "      <th>hero2</th>\n",
       "    </tr>\n",
       "  </thead>\n",
       "  <tbody>\n",
       "    <tr>\n",
       "      <th>0</th>\n",
       "      <td>LITTLE, ABNER</td>\n",
       "      <td>PRINCESS ZANDA</td>\n",
       "    </tr>\n",
       "    <tr>\n",
       "      <th>1</th>\n",
       "      <td>LITTLE, ABNER</td>\n",
       "      <td>BLACK PANTHER/T'CHAL</td>\n",
       "    </tr>\n",
       "    <tr>\n",
       "      <th>2</th>\n",
       "      <td>BLACK PANTHER/T'CHAL</td>\n",
       "      <td>PRINCESS ZANDA</td>\n",
       "    </tr>\n",
       "    <tr>\n",
       "      <th>3</th>\n",
       "      <td>LITTLE, ABNER</td>\n",
       "      <td>PRINCESS ZANDA</td>\n",
       "    </tr>\n",
       "    <tr>\n",
       "      <th>4</th>\n",
       "      <td>LITTLE, ABNER</td>\n",
       "      <td>BLACK PANTHER/T'CHAL</td>\n",
       "    </tr>\n",
       "    <tr>\n",
       "      <th>...</th>\n",
       "      <td>...</td>\n",
       "      <td>...</td>\n",
       "    </tr>\n",
       "    <tr>\n",
       "      <th>574462</th>\n",
       "      <td>COLOSSUS II/PETER RA</td>\n",
       "      <td>CALLISTO</td>\n",
       "    </tr>\n",
       "    <tr>\n",
       "      <th>574463</th>\n",
       "      <td>CALLISTO</td>\n",
       "      <td>ROGUE /</td>\n",
       "    </tr>\n",
       "    <tr>\n",
       "      <th>574464</th>\n",
       "      <td>CALLISTO</td>\n",
       "      <td>CALIBAN/</td>\n",
       "    </tr>\n",
       "    <tr>\n",
       "      <th>574465</th>\n",
       "      <td>CALIBAN/</td>\n",
       "      <td>ROGUE /</td>\n",
       "    </tr>\n",
       "    <tr>\n",
       "      <th>574466</th>\n",
       "      <td>HULK/DR. ROBERT BRUC</td>\n",
       "      <td>MARKS, DR. SHIELA</td>\n",
       "    </tr>\n",
       "  </tbody>\n",
       "</table>\n",
       "<p>574467 rows × 2 columns</p>\n",
       "</div>"
      ],
      "text/plain": [
       "                       hero1                 hero2\n",
       "0              LITTLE, ABNER        PRINCESS ZANDA\n",
       "1              LITTLE, ABNER  BLACK PANTHER/T'CHAL\n",
       "2       BLACK PANTHER/T'CHAL        PRINCESS ZANDA\n",
       "3              LITTLE, ABNER        PRINCESS ZANDA\n",
       "4              LITTLE, ABNER  BLACK PANTHER/T'CHAL\n",
       "...                      ...                   ...\n",
       "574462  COLOSSUS II/PETER RA              CALLISTO\n",
       "574463              CALLISTO               ROGUE /\n",
       "574464              CALLISTO              CALIBAN/\n",
       "574465              CALIBAN/               ROGUE /\n",
       "574466  HULK/DR. ROBERT BRUC     MARKS, DR. SHIELA\n",
       "\n",
       "[574467 rows x 2 columns]"
      ]
     },
     "execution_count": 4,
     "metadata": {},
     "output_type": "execute_result"
    }
   ],
   "source": [
    "hero_net_df"
   ]
  },
  {
   "cell_type": "code",
   "execution_count": null,
   "id": "0493b736",
   "metadata": {
    "papermill": {
     "duration": 0.002236,
     "end_time": "2023-08-10T18:53:48.610478",
     "exception": false,
     "start_time": "2023-08-10T18:53:48.608242",
     "status": "completed"
    },
    "tags": []
   },
   "outputs": [],
   "source": []
  }
 ],
 "metadata": {
  "kernelspec": {
   "display_name": "Python 3",
   "language": "python",
   "name": "python3"
  },
  "language_info": {
   "codemirror_mode": {
    "name": "ipython",
    "version": 3
   },
   "file_extension": ".py",
   "mimetype": "text/x-python",
   "name": "python",
   "nbconvert_exporter": "python",
   "pygments_lexer": "ipython3",
   "version": "3.10.12"
  },
  "papermill": {
   "default_parameters": {},
   "duration": 11.687591,
   "end_time": "2023-08-10T18:53:49.434258",
   "environment_variables": {},
   "exception": null,
   "input_path": "__notebook__.ipynb",
   "output_path": "__notebook__.ipynb",
   "parameters": {},
   "start_time": "2023-08-10T18:53:37.746667",
   "version": "2.4.0"
  }
 },
 "nbformat": 4,
 "nbformat_minor": 5
}
