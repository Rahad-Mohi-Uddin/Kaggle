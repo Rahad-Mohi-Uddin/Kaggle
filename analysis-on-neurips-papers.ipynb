{
 "cells": [
  {
   "cell_type": "code",
   "execution_count": 1,
   "id": "617c50a8",
   "metadata": {
    "_cell_guid": "b1076dfc-b9ad-4769-8c92-a6c4dae69d19",
    "_uuid": "8f2839f25d086af736a60e9eeb907d3b93b6e0e5",
    "execution": {
     "iopub.execute_input": "2023-01-13T13:42:05.475167Z",
     "iopub.status.busy": "2023-01-13T13:42:05.473994Z",
     "iopub.status.idle": "2023-01-13T13:42:05.497159Z",
     "shell.execute_reply": "2023-01-13T13:42:05.496194Z"
    },
    "papermill": {
     "duration": 0.033518,
     "end_time": "2023-01-13T13:42:05.500454",
     "exception": false,
     "start_time": "2023-01-13T13:42:05.466936",
     "status": "completed"
    },
    "tags": []
   },
   "outputs": [
    {
     "name": "stdout",
     "output_type": "stream",
     "text": [
      "/kaggle/input/nips-papers/paper_authors.csv\n",
      "/kaggle/input/nips-papers/papers.csv\n",
      "/kaggle/input/nips-papers/authors.csv\n",
      "/kaggle/input/nips-papers/database.sqlite\n"
     ]
    }
   ],
   "source": [
    "# This Python 3 environment comes with many helpful analytics libraries installed\n",
    "# It is defined by the kaggle/python Docker image: https://github.com/kaggle/docker-python\n",
    "# For example, here's several helpful packages to load\n",
    "\n",
    "import numpy as np # linear algebra\n",
    "import pandas as pd # data processing, CSV file I/O (e.g. pd.read_csv)\n",
    "\n",
    "# Input data files are available in the read-only \"../input/\" directory\n",
    "# For example, running this (by clicking run or pressing Shift+Enter) will list all files under the input directory\n",
    "\n",
    "import os\n",
    "for dirname, _, filenames in os.walk('/kaggle/input'):\n",
    "    for filename in filenames:\n",
    "        print(os.path.join(dirname, filename))\n",
    "\n",
    "# You can write up to 20GB to the current directory (/kaggle/working/) that gets preserved as output when you create a version using \"Save & Run All\" \n",
    "# You can also write temporary files to /kaggle/temp/, but they won't be saved outside of the current session"
   ]
  },
  {
   "cell_type": "markdown",
   "id": "f29e815c",
   "metadata": {
    "papermill": {
     "duration": 0.003433,
     "end_time": "2023-01-13T13:42:05.508929",
     "exception": false,
     "start_time": "2023-01-13T13:42:05.505496",
     "status": "completed"
    },
    "tags": []
   },
   "source": [
    "# About NeurIPS and the dataset \n",
    "**Neural Information Processing Systems** abbreviated as NeurIPS is one of the top machine learning conferences in the world. It covers topics ranging from deep learning and computer vision to cognitive science and reinforcement learning.\n",
    "\n",
    "The dataset used in this notebook includes all the paper published between 1987 and 2017 in NeurIPS. There are three csv file **\"authors.csv\"**, **\"papers.csv\"** and **\"paper_authors.csv\"**. Both **\"authors.csv\"** and **\"papers.csv\"** file contains \"author_id\" and \"paper_id\" which are matched with a unique id in **\"paper_authors.csv\"**   \n",
    "\n",
    "In this notebook I am going to run different analysis. Through the analysis I will try to extract different information which can be very interesting.  \n",
    "\n",
    "#### At first we would import all the necessary libraries "
   ]
  },
  {
   "cell_type": "code",
   "execution_count": 2,
   "id": "6548a274",
   "metadata": {
    "execution": {
     "iopub.execute_input": "2023-01-13T13:42:05.518733Z",
     "iopub.status.busy": "2023-01-13T13:42:05.517650Z",
     "iopub.status.idle": "2023-01-13T13:42:06.665150Z",
     "shell.execute_reply": "2023-01-13T13:42:06.663830Z"
    },
    "papermill": {
     "duration": 1.155548,
     "end_time": "2023-01-13T13:42:06.668214",
     "exception": false,
     "start_time": "2023-01-13T13:42:05.512666",
     "status": "completed"
    },
    "tags": []
   },
   "outputs": [],
   "source": [
    "#general computation libraries\n",
    "import numpy as np\n",
    "import pandas as pd \n",
    "\n",
    "#visualization libraries\n",
    "%matplotlib inline \n",
    "import matplotlib.pyplot as plt\n",
    "import seaborn as sns"
   ]
  },
  {
   "cell_type": "markdown",
   "id": "46dc90c2",
   "metadata": {
    "papermill": {
     "duration": 0.003287,
     "end_time": "2023-01-13T13:42:06.675372",
     "exception": false,
     "start_time": "2023-01-13T13:42:06.672085",
     "status": "completed"
    },
    "tags": []
   },
   "source": [
    "#### Now let's load the dataset"
   ]
  },
  {
   "cell_type": "code",
   "execution_count": 3,
   "id": "19c951ac",
   "metadata": {
    "execution": {
     "iopub.execute_input": "2023-01-13T13:42:06.684137Z",
     "iopub.status.busy": "2023-01-13T13:42:06.683667Z",
     "iopub.status.idle": "2023-01-13T13:42:12.676246Z",
     "shell.execute_reply": "2023-01-13T13:42:12.675378Z"
    },
    "papermill": {
     "duration": 5.999982,
     "end_time": "2023-01-13T13:42:12.678841",
     "exception": false,
     "start_time": "2023-01-13T13:42:06.678859",
     "status": "completed"
    },
    "tags": []
   },
   "outputs": [],
   "source": [
    "authors=pd.read_csv(\"/kaggle/input/nips-papers/authors.csv\")\n",
    "papers=pd.read_csv(\"/kaggle/input/nips-papers/papers.csv\")\n",
    "papers_authors=pd.read_csv(\"/kaggle/input/nips-papers/paper_authors.csv\")"
   ]
  },
  {
   "cell_type": "markdown",
   "id": "a8d7a9de",
   "metadata": {
    "papermill": {
     "duration": 0.003708,
     "end_time": "2023-01-13T13:42:12.687874",
     "exception": false,
     "start_time": "2023-01-13T13:42:12.684166",
     "status": "completed"
    },
    "tags": []
   },
   "source": [
    "after loading the dataset now we will **surf the datasets** to **understand** it's characteristics and other **properties**."
   ]
  },
  {
   "cell_type": "code",
   "execution_count": 4,
   "id": "40e39039",
   "metadata": {
    "execution": {
     "iopub.execute_input": "2023-01-13T13:42:12.697566Z",
     "iopub.status.busy": "2023-01-13T13:42:12.696907Z",
     "iopub.status.idle": "2023-01-13T13:42:12.724086Z",
     "shell.execute_reply": "2023-01-13T13:42:12.722678Z"
    },
    "papermill": {
     "duration": 0.03506,
     "end_time": "2023-01-13T13:42:12.726796",
     "exception": false,
     "start_time": "2023-01-13T13:42:12.691736",
     "status": "completed"
    },
    "tags": []
   },
   "outputs": [
    {
     "name": "stdout",
     "output_type": "stream",
     "text": [
      "<class 'pandas.core.frame.DataFrame'>\n",
      "RangeIndex: 9784 entries, 0 to 9783\n",
      "Data columns (total 2 columns):\n",
      " #   Column  Non-Null Count  Dtype \n",
      "---  ------  --------------  ----- \n",
      " 0   id      9784 non-null   int64 \n",
      " 1   name    9784 non-null   object\n",
      "dtypes: int64(1), object(1)\n",
      "memory usage: 153.0+ KB\n"
     ]
    }
   ],
   "source": [
    "authors.info()"
   ]
  },
  {
   "cell_type": "code",
   "execution_count": 5,
   "id": "4f7cb04f",
   "metadata": {
    "execution": {
     "iopub.execute_input": "2023-01-13T13:42:12.736549Z",
     "iopub.status.busy": "2023-01-13T13:42:12.735382Z",
     "iopub.status.idle": "2023-01-13T13:42:12.752158Z",
     "shell.execute_reply": "2023-01-13T13:42:12.750510Z"
    },
    "papermill": {
     "duration": 0.024344,
     "end_time": "2023-01-13T13:42:12.754857",
     "exception": false,
     "start_time": "2023-01-13T13:42:12.730513",
     "status": "completed"
    },
    "tags": []
   },
   "outputs": [
    {
     "name": "stdout",
     "output_type": "stream",
     "text": [
      "<class 'pandas.core.frame.DataFrame'>\n",
      "RangeIndex: 7241 entries, 0 to 7240\n",
      "Data columns (total 7 columns):\n",
      " #   Column      Non-Null Count  Dtype \n",
      "---  ------      --------------  ----- \n",
      " 0   id          7241 non-null   int64 \n",
      " 1   year        7241 non-null   int64 \n",
      " 2   title       7241 non-null   object\n",
      " 3   event_type  2422 non-null   object\n",
      " 4   pdf_name    7241 non-null   object\n",
      " 5   abstract    7241 non-null   object\n",
      " 6   paper_text  7241 non-null   object\n",
      "dtypes: int64(2), object(5)\n",
      "memory usage: 396.1+ KB\n"
     ]
    }
   ],
   "source": [
    "papers.info()"
   ]
  },
  {
   "cell_type": "markdown",
   "id": "3c83d806",
   "metadata": {
    "papermill": {
     "duration": 0.003364,
     "end_time": "2023-01-13T13:42:12.762266",
     "exception": false,
     "start_time": "2023-01-13T13:42:12.758902",
     "status": "completed"
    },
    "tags": []
   },
   "source": [
    "Our main target is to analyze the text. Before that let's have some basic EDA.\n",
    "\n",
    "Let's see how many papers published since 1987 till 2017"
   ]
  },
  {
   "cell_type": "code",
   "execution_count": 6,
   "id": "3484ddcd",
   "metadata": {
    "execution": {
     "iopub.execute_input": "2023-01-13T13:42:12.771889Z",
     "iopub.status.busy": "2023-01-13T13:42:12.770819Z",
     "iopub.status.idle": "2023-01-13T13:42:13.123212Z",
     "shell.execute_reply": "2023-01-13T13:42:13.122086Z"
    },
    "papermill": {
     "duration": 0.359767,
     "end_time": "2023-01-13T13:42:13.125674",
     "exception": false,
     "start_time": "2023-01-13T13:42:12.765907",
     "status": "completed"
    },
    "tags": []
   },
   "outputs": [
    {
     "data": {
      "text/plain": [
       "Text(0, 0.5, 'Total Papers')"
      ]
     },
     "execution_count": 6,
     "metadata": {},
     "output_type": "execute_result"
    },
    {
     "data": {
      "image/png": "[encoded data removed]",
      "text/plain": [
       "<Figure size 720x576 with 1 Axes>"
      ]
     },
     "metadata": {},
     "output_type": "display_data"
    }
   ],
   "source": [
    "sns.set_theme(style='whitegrid')\n",
    "fig,ax=plt.subplots(figsize=(10,8))\n",
    "\n",
    "ax.spines['top'].set_visible(False);ax.spines['right'].set_visible(False)\n",
    "ax.spines['bottom'].set_visible(True);ax.spines['left'].set_visible(True)\n",
    "\n",
    "sns.lineplot(data=papers['year'].value_counts(),marker='o',markersize=10,color='blue',linewidth=4)\n",
    "ax.set_title(\"Count of Published Papers (1987 to 2017)\",loc='center',color='black',fontsize=15,fontweight='semibold')\n",
    "ax.set_xlabel(\"Years\",loc='center',color='black',fontsize=12,fontweight='normal')\n",
    "ax.set_ylabel(\"Total Papers\",loc='center',color='black',fontsize=12,fontweight='normal')"
   ]
  },
  {
   "cell_type": "markdown",
   "id": "344f9f23",
   "metadata": {
    "papermill": {
     "duration": 0.003987,
     "end_time": "2023-01-13T13:42:13.134013",
     "exception": false,
     "start_time": "2023-01-13T13:42:13.130026",
     "status": "completed"
    },
    "tags": []
   },
   "source": [
    "from the line chart it is evident that total number of papers published in NeurIPS increasing drastically with the year. "
   ]
  },
  {
   "cell_type": "code",
   "execution_count": null,
   "id": "f451c7c9",
   "metadata": {
    "papermill": {
     "duration": 0.003958,
     "end_time": "2023-01-13T13:42:13.142098",
     "exception": false,
     "start_time": "2023-01-13T13:42:13.138140",
     "status": "completed"
    },
    "tags": []
   },
   "outputs": [],
   "source": []
  }
 ],
 "metadata": {
  "kernelspec": {
   "display_name": "Python 3",
   "language": "python",
   "name": "python3"
  },
  "language_info": {
   "codemirror_mode": {
    "name": "ipython",
    "version": 3
   },
   "file_extension": ".py",
   "mimetype": "text/x-python",
   "name": "python",
   "nbconvert_exporter": "python",
   "pygments_lexer": "ipython3",
   "version": "3.7.12"
  },
  "papermill": {
   "default_parameters": {},
   "duration": 19.153535,
   "end_time": "2023-01-13T13:42:13.970996",
   "environment_variables": {},
   "exception": null,
   "input_path": "__notebook__.ipynb",
   "output_path": "__notebook__.ipynb",
   "parameters": {},
   "start_time": "2023-01-13T13:41:54.817461",
   "version": "2.3.4"
  }
 },
 "nbformat": 4,
 "nbformat_minor": 5
}
